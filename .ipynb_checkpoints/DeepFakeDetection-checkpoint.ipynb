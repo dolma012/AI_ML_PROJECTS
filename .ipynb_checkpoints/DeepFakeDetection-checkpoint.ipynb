{
 "cells": [
  {
   "cell_type": "markdown",
   "id": "06246be2-5ed7-4ab5-91c0-e89772811aa9",
   "metadata": {},
   "source": [
    "Step 2: Task and Dataset Selection"
   ]
  },
  {
   "cell_type": "code",
   "execution_count": 4,
   "id": "c19d4f44",
   "metadata": {},
   "outputs": [
    {
     "name": "stdout",
     "output_type": "stream",
     "text": [
      "device: cpu\n"
     ]
    }
   ],
   "source": [
    "\n",
    "import torch\n",
    "import os\n",
    "import json\n",
    "from datasets import DatasetDict\n",
    "from transformers import AutoModelForSequenceClassification,AutoTokenizer\n",
    "from datasets import load_dataset\n",
    "device = 'cuda:0' if torch.cuda.is_available() else 'cpu'\n",
    "print(f'device: {device}')\n",
    "dataset = load_dataset(\"yaful/DeepfakeTextDetect\")\n"
   ]
  },
  {
   "cell_type": "code",
   "execution_count": 13,
   "id": "39514590-4adc-40c4-9569-532e55c837f5",
   "metadata": {
    "scrolled": true
   },
   "outputs": [
    {
     "name": "stdout",
     "output_type": "stream",
     "text": [
      "\n",
      "\n",
      "distilbert-base-uncased\n",
      "['[CLS]', 'hello', 'everyone', '!', '!', 'anti', '##dis', '##est', '##ab', '##lish', '##ment', '##arian', '##ism', '[SEP]']\n"
     ]
    },
    {
     "data": {
      "application/vnd.jupyter.widget-view+json": {
       "model_id": "cca3ae34c16942b3873d7a209bdf2560",
       "version_major": 2,
       "version_minor": 0
      },
      "text/plain": [
       "Map:   0%|          | 0/319071 [00:00<?, ? examples/s]"
      ]
     },
     "metadata": {},
     "output_type": "display_data"
    },
    {
     "data": {
      "application/vnd.jupyter.widget-view+json": {
       "model_id": "23952d366e8d46b8a8ccc6e41c0608ec",
       "version_major": 2,
       "version_minor": 0
      },
      "text/plain": [
       "Map:   0%|          | 0/56792 [00:00<?, ? examples/s]"
      ]
     },
     "metadata": {},
     "output_type": "display_data"
    }
   ],
   "source": [
    "import torch\n",
    "from transformers import AutoTokenizer\n",
    "tokenizer = AutoTokenizer.from_pretrained(\"distilbert-base-uncased\")\n",
    "text = 'Hello everyone! ! antidisestablishmentarianism'\n",
    "for t in [tokenizer]:\n",
    "  print(f'\\n\\n{tokenizer.name_or_path}')\n",
    "  vocab = {v: k for k, v in t.vocab.items()}\n",
    "  tokenized_text = t(text)\n",
    "  print([vocab[id] for id in tokenized_text['input_ids']])\n",
    "\n",
    "from datasets import Dataset\n",
    "def preprocess_function(examples):\n",
    "    return tokenizer(examples['text'], padding=True, truncation=True)\n",
    "tokenized_data_train = dataset['train'].map(preprocess_function, batched=True)\n",
    "tokenized_data_test = dataset['validation'].map(preprocess_function, batched=True)\n"
   ]
  },
  {
   "cell_type": "code",
   "execution_count": 14,
   "id": "a861298c-96b2-41c8-894a-6a37b1dbccb0",
   "metadata": {},
   "outputs": [],
   "source": [
    "from transformers import DataCollatorWithPadding\n",
    "data_collator = DataCollatorWithPadding(tokenizer=tokenizer)"
   ]
  },
  {
   "cell_type": "code",
   "execution_count": 15,
   "id": "e3465d81-7e3f-437d-bb75-d9adf91a879a",
   "metadata": {},
   "outputs": [],
   "source": [
    "import evaluate\n",
    "# Proportion of correct predictions among the total number of cases processed\n",
    "accuracy = evaluate.load('accuracy')"
   ]
  },
  {
   "cell_type": "code",
   "execution_count": 16,
   "id": "2f22c17c-c50b-433d-b802-87ceff1c8dbe",
   "metadata": {},
   "outputs": [
    {
     "name": "stderr",
     "output_type": "stream",
     "text": [
      "Some weights of DistilBertForSequenceClassification were not initialized from the model checkpoint at distilbert-base-uncased and are newly initialized: ['classifier.bias', 'classifier.weight', 'pre_classifier.bias', 'pre_classifier.weight']\n",
      "You should probably TRAIN this model on a down-stream task to be able to use it for predictions and inference.\n"
     ]
    },
    {
     "name": "stdout",
     "output_type": "stream",
     "text": [
      "id2label: {0: 'Not Human', 1: 'Human'}\n",
      "label2id: {'Not Human': 0, 'Human': 1}\n"
     ]
    }
   ],
   "source": [
    "import numpy as np\n",
    "def compute_metrics(eval_pred):\n",
    "    predictions, labels = eval_pred\n",
    "    predictions = np.argmax(predictions, axis=1)\n",
    "    return accuracy.compute(predictions=predictions, references=labels)\n",
    "labels = ['Not Human', 'Human']\n",
    "id2label = {i: label for i, label in enumerate(labels)}\n",
    "label2id = {label: i for i, label in id2label.items()}\n",
    "print('id2label:', id2label)\n",
    "print('label2id:', label2id)\n",
    "model = AutoModelForSequenceClassification.from_pretrained(\n",
    "    \"distilbert-base-uncased\", num_labels=len(labels), id2label=id2label, label2id=label2id\n",
    ")"
   ]
  },
  {
   "cell_type": "markdown",
   "id": "ee1ef08f-6f1c-426d-b0fd-5b5dfcf7d816",
   "metadata": {},
   "source": [
    "Step 3: Choosing Model and Model Training with CustomTrainer"
   ]
  },
  {
   "cell_type": "code",
   "execution_count": 27,
   "id": "526118b4-b7f6-49f9-af97-59e88f0a35c3",
   "metadata": {},
   "outputs": [
    {
     "name": "stderr",
     "output_type": "stream",
     "text": [
      "/Users/dhondupdolma/Desktop/CSCI_NLP/.env/lib/python3.11/site-packages/transformers/training_args.py:1895: UserWarning: `use_mps_device` is deprecated and will be removed in version 5.0 of 🤗 Transformers. `mps` device will be used by default if available similar to the way `cuda` device is used.Therefore, no action from user is required. \n",
      "  warnings.warn(\n"
     ]
    }
   ],
   "source": [
    "from transformers import AutoModelForSequenceClassification, TrainingArguments, Trainer\n",
    "training_args = TrainingArguments(\n",
    "    output_dir='deep_fake_model',\n",
    "    learning_rate= 2e-5 ,\n",
    "    per_device_train_batch_size=15,\n",
    "    per_device_eval_batch_size=15,\n",
    "    num_train_epochs=5,\n",
    "    weight_decay=0.001,\n",
    "    evaluation_strategy='epoch',\n",
    "    save_strategy='epoch',\n",
    "    load_best_model_at_end=True,\n",
    "    use_mps_device=True\n",
    ")"
   ]
  },
  {
   "cell_type": "code",
   "execution_count": 19,
   "id": "73d75efc-2273-4f8d-8945-416786ec2421",
   "metadata": {},
   "outputs": [
    {
     "name": "stderr",
     "output_type": "stream",
     "text": [
      "Training Epoch 0:   0%|                                                                                                                                                                  | 0/21272 [00:00<?, ?batch/s]We strongly recommend passing in an `attention_mask` since your input_ids may be padded. See https://huggingface.co/docs/transformers/troubleshooting#incorrect-output-when-padding-tokens-arent-masked.\n"
     ]
    },
    {
     "name": "stdout",
     "output_type": "stream",
     "text": [
      "21272\n"
     ]
    },
    {
     "name": "stderr",
     "output_type": "stream",
     "text": [
      "Training Epoch 0: 100%|████████████████████████████████████████████████████████████████████████████████████████████████████████████████████████████████████████████████████| 21272/21272 [8:04:51<00:00,  1.37s/batch]\n"
     ]
    },
    {
     "name": "stdout",
     "output_type": "stream",
     "text": [
      "train_correct_total:  299170  total_train_samples:  319071\n"
     ]
    },
    {
     "name": "stderr",
     "output_type": "stream",
     "text": [
      "Evaluation Epoch 0: 100%|██████████████████████████████████████████████████████████████████████████████████████████████████████████████████████████████████████████████████████| 3787/3787 [22:29<00:00,  2.81batch/s]\n"
     ]
    },
    {
     "name": "stdout",
     "output_type": "stream",
     "text": [
      "eval_correct_total:  47552  total_eval_samples:  56792\n",
      "\tTrain Loss: 0.153 | Train Acc: 93.76%\n",
      "\tEval Loss: 0.393 | Eval Acc: 83.73%\n"
     ]
    },
    {
     "name": "stderr",
     "output_type": "stream",
     "text": [
      "Training Epoch 1:   0%|                                                                                                                                                                  | 0/21272 [00:00<?, ?batch/s]"
     ]
    },
    {
     "name": "stdout",
     "output_type": "stream",
     "text": [
      "21272\n"
     ]
    },
    {
     "name": "stderr",
     "output_type": "stream",
     "text": [
      "Training Epoch 1: 100%|████████████████████████████████████████████████████████████████████████████████████████████████████████████████████████████████████████████████████| 21272/21272 [7:57:25<00:00,  1.35s/batch]\n"
     ]
    },
    {
     "name": "stdout",
     "output_type": "stream",
     "text": [
      "train_correct_total:  311047  total_train_samples:  319071\n"
     ]
    },
    {
     "name": "stderr",
     "output_type": "stream",
     "text": [
      "Evaluation Epoch 1: 100%|██████████████████████████████████████████████████████████████████████████████████████████████████████████████████████████████████████████████████████| 3787/3787 [23:28<00:00,  2.69batch/s]\n"
     ]
    },
    {
     "name": "stdout",
     "output_type": "stream",
     "text": [
      "eval_correct_total:  48346  total_eval_samples:  56792\n",
      "\tTrain Loss: 0.065 | Train Acc: 97.49%\n",
      "\tEval Loss: 0.440 | Eval Acc: 85.13%\n"
     ]
    },
    {
     "name": "stderr",
     "output_type": "stream",
     "text": [
      "Training Epoch 2:   0%|                                                                                                                                                                  | 0/21272 [00:00<?, ?batch/s]"
     ]
    },
    {
     "name": "stdout",
     "output_type": "stream",
     "text": [
      "21272\n"
     ]
    },
    {
     "name": "stderr",
     "output_type": "stream",
     "text": [
      "Training Epoch 2: 100%|████████████████████████████████████████████████████████████████████████████████████████████████████████████████████████████████████████████████████| 21272/21272 [8:12:45<00:00,  1.39s/batch]\n"
     ]
    },
    {
     "name": "stdout",
     "output_type": "stream",
     "text": [
      "train_correct_total:  315202  total_train_samples:  319071\n"
     ]
    },
    {
     "name": "stderr",
     "output_type": "stream",
     "text": [
      "Evaluation Epoch 2: 100%|██████████████████████████████████████████████████████████████████████████████████████████████████████████████████████████████████████████████████████| 3787/3787 [22:09<00:00,  2.85batch/s]\n"
     ]
    },
    {
     "name": "stdout",
     "output_type": "stream",
     "text": [
      "eval_correct_total:  50594  total_eval_samples:  56792\n",
      "\tTrain Loss: 0.032 | Train Acc: 98.79%\n",
      "\tEval Loss: 0.374 | Eval Acc: 89.09%\n"
     ]
    },
    {
     "name": "stderr",
     "output_type": "stream",
     "text": [
      "Training Epoch 3:   0%|                                                                                                                                                                  | 0/21272 [00:00<?, ?batch/s]"
     ]
    },
    {
     "name": "stdout",
     "output_type": "stream",
     "text": [
      "21272\n"
     ]
    },
    {
     "name": "stderr",
     "output_type": "stream",
     "text": [
      "Training Epoch 3: 100%|████████████████████████████████████████████████████████████████████████████████████████████████████████████████████████████████████████████████████| 21272/21272 [7:53:59<00:00,  1.34s/batch]\n"
     ]
    },
    {
     "name": "stdout",
     "output_type": "stream",
     "text": [
      "train_correct_total:  316763  total_train_samples:  319071\n"
     ]
    },
    {
     "name": "stderr",
     "output_type": "stream",
     "text": [
      "Evaluation Epoch 3: 100%|██████████████████████████████████████████████████████████████████████████████████████████████████████████████████████████████████████████████████████| 3787/3787 [22:27<00:00,  2.81batch/s]\n"
     ]
    },
    {
     "name": "stdout",
     "output_type": "stream",
     "text": [
      "eval_correct_total:  49368  total_eval_samples:  56792\n",
      "\tTrain Loss: 0.020 | Train Acc: 99.28%\n",
      "\tEval Loss: 0.509 | Eval Acc: 86.93%\n"
     ]
    },
    {
     "name": "stderr",
     "output_type": "stream",
     "text": [
      "Training Epoch 4:   0%|                                                                                                                                                                  | 0/21272 [00:00<?, ?batch/s]"
     ]
    },
    {
     "name": "stdout",
     "output_type": "stream",
     "text": [
      "21272\n"
     ]
    },
    {
     "name": "stderr",
     "output_type": "stream",
     "text": [
      "Training Epoch 4: 100%|████████████████████████████████████████████████████████████████████████████████████████████████████████████████████████████████████████████████████| 21272/21272 [7:56:43<00:00,  1.34s/batch]\n"
     ]
    },
    {
     "name": "stdout",
     "output_type": "stream",
     "text": [
      "train_correct_total:  317560  total_train_samples:  319071\n"
     ]
    },
    {
     "name": "stderr",
     "output_type": "stream",
     "text": [
      "Evaluation Epoch 4: 100%|██████████████████████████████████████████████████████████████████████████████████████████████████████████████████████████████████████████████████████| 3787/3787 [22:30<00:00,  2.80batch/s]"
     ]
    },
    {
     "name": "stdout",
     "output_type": "stream",
     "text": [
      "eval_correct_total:  49904  total_eval_samples:  56792\n",
      "\tTrain Loss: 0.013 | Train Acc: 99.53%\n",
      "\tEval Loss: 0.546 | Eval Acc: 87.87%\n",
      "Time: 2518.849 minutes\n"
     ]
    },
    {
     "name": "stderr",
     "output_type": "stream",
     "text": [
      "\n"
     ]
    }
   ],
   "source": [
    "from tqdm import tqdm\n",
    "import time\n",
    "import math\n",
    "import torch\n",
    "# loss function takes the pair of inputs and computes a value that estimates how far away the predicted output is from the target\n",
    "# calling loss.backward()  the entire graph is differentiated w.r.t. the loss, and all variables in the graph will have their .grad var accumulated with the gradient\n",
    "# to backpropogate the error, first clear all gradient and call the loss.backward() \n",
    "class CustomTrainer(Trainer):\n",
    "    def __init__(self, *args, **kwargs):\n",
    "        super().__init__(*args, **kwargs)\n",
    "    def _inner_training_loop(self, batch_size=None, args=None, resume_from_checkpoint=None, trial=None, ignore_keys_for_eval=None):\n",
    "        number_of_epochs = args.num_train_epochs\n",
    "        start = time.time()\n",
    "        criterion = torch.nn.CrossEntropyLoss().to(device)\n",
    "        self.optimizer = torch.optim.Adam(self.model.parameters(), lr=args.learning_rate)\n",
    "        self.scheduler = torch.optim.lr_scheduler.StepLR(self.optimizer, 1, gamma=0.9)\n",
    "        train_dataloader = self.get_train_dataloader()\n",
    "        eval_dataloader = self.get_eval_dataloader()\n",
    "        \n",
    "        for epoch in range(number_of_epochs):\n",
    "            self.model.train()\n",
    "            train_loss_per_epoch = 0\n",
    "            train_correct_total = 0\n",
    "            total_train_samples = 0\n",
    "            \n",
    "            max_steps = math.ceil(args.num_train_epochs * len(train_dataloader))\n",
    "            with tqdm(train_dataloader, unit=\"batch\") as training_epoch:\n",
    "                training_epoch.set_description(f\"Training Epoch {epoch}\")\n",
    "                print(len(training_epoch))\n",
    "                for step, inputs in enumerate(training_epoch):\n",
    "                    # Move inputs and labels to the correct device\n",
    "                    inputs['device'] = device\n",
    "                    input_ids = inputs['input_ids']\n",
    "                    labels = inputs['labels']\n",
    "                    # zero gradient\n",
    "                    self.optimizer.zero_grad()\n",
    "                    # forward pass\n",
    "                    outputs =  self.model(input_ids,labels = labels)\n",
    "                    logits = outputs.logits\n",
    "                    #  compute loss\n",
    "                    loss = criterion(logits, labels)\n",
    "                    train_loss_per_epoch += loss.item()\n",
    "                    #  backpropogate\n",
    "                    loss.backward()\n",
    "                    # update weights\n",
    "                    self.optimizer.step()\n",
    "                    # performs a parameter update based on the current gradient stored in self.grad\n",
    "                    # backward \n",
    "                    train_correct_total += (logits.argmax(dim=1) == labels).sum().item()\n",
    "                    total_train_samples += labels.size(0)\n",
    "                print(\"train_correct_total: \", train_correct_total,\" total_train_samples: \", total_train_samples)\n",
    "            self.scheduler.step()\n",
    "            train_loss_per_epoch /= len(train_dataloader)\n",
    "            train_accuracy = train_correct_total / total_train_samples\n",
    "            self.model.eval()\n",
    "            eval_loss_per_epoch = 0\n",
    "            eval_correct_total = 0\n",
    "            total_eval_samples = 0\n",
    "            with torch.no_grad():\n",
    "                with tqdm(eval_dataloader, unit=\"batch\") as eval_epoch:\n",
    "                    eval_epoch.set_description(f\"Evaluation Epoch {epoch}\")\n",
    "                    for step, inputs in enumerate(eval_epoch):\n",
    "                        input_ids = inputs['input_ids']\n",
    "                        labels = inputs['labels']\n",
    "                        outputs =  self.model(input_ids, labels = labels)\n",
    "                        logits = outputs.logits\n",
    "                        loss = criterion(logits, labels)\n",
    "                        eval_loss_per_epoch += loss.item()\n",
    "                        eval_correct_total += (logits.argmax(dim=1) == labels).sum().item()\n",
    "                        total_eval_samples += labels.size(0)\n",
    "                    print(\"eval_correct_total: \", eval_correct_total,\" total_eval_samples: \", total_eval_samples)\n",
    "\n",
    "            eval_loss_per_epoch /= len(eval_dataloader)\n",
    "            eval_accuracy = eval_correct_total / total_eval_samples\n",
    "            print(f'\\tTrain Loss: {train_loss_per_epoch:.3f} | Train Acc: {train_accuracy*100:.2f}%')\n",
    "            print(f'\\tEval Loss: {eval_loss_per_epoch:.3f} | Eval Acc: {eval_accuracy*100:.2f}%')\n",
    "        print(f'Time: {(time.time()-start)/60:.3f} minutes')\n",
    "\n",
    "\n",
    "trainer = CustomTrainer(\n",
    "    model=model,\n",
    "    args=training_args,\n",
    "    train_dataset=tokenized_data_train,\n",
    "    eval_dataset=tokenized_data_test,\n",
    "    tokenizer=tokenizer,\n",
    "    data_collator=data_collator,\n",
    "    compute_metrics= compute_metrics,\n",
    ")\n",
    "trainer.train()"
   ]
  },
  {
   "cell_type": "code",
   "execution_count": 20,
   "id": "da35241f-2ae4-4e57-a491-071432c5f75d",
   "metadata": {},
   "outputs": [
    {
     "data": {
      "text/plain": [
       "('./deep_fake_model/tokenizer_config.json',\n",
       " './deep_fake_model/special_tokens_map.json',\n",
       " './deep_fake_model/vocab.txt',\n",
       " './deep_fake_model/added_tokens.json',\n",
       " './deep_fake_model/tokenizer.json')"
      ]
     },
     "execution_count": 20,
     "metadata": {},
     "output_type": "execute_result"
    }
   ],
   "source": [
    "output_dir = \"./deep_fake_model\"\n",
    "model.save_pretrained(output_dir)\n",
    "tokenizer.save_pretrained(output_dir)"
   ]
  },
  {
   "cell_type": "markdown",
   "id": "16db5fcb-9336-41b2-97bb-dbcaf969f136",
   "metadata": {},
   "source": [
    "Step 4: Evaluation of three types of test sets: test, test_ood_gpt_para, test_ood_gpt. "
   ]
  },
  {
   "cell_type": "code",
   "execution_count": 6,
   "id": "2418b936-dae0-42f2-a1bc-12e707ce0439",
   "metadata": {},
   "outputs": [
    {
     "name": "stdout",
     "output_type": "stream",
     "text": [
      "test_correct_total:  1765  total_test_samples:  2362\n",
      "Time: 4.802 minutes\n"
     ]
    }
   ],
   "source": [
    "# Test Accuracy on Out-of-distribution Detection\n",
    "import time\n",
    "dataset = load_dataset(\"yaful/DeepfakeTextDetect\")\n",
    "model_test = AutoModelForSequenceClassification.from_pretrained(\"./deep_fake_model/\")\n",
    "tokenizer = AutoTokenizer.from_pretrained('distilbert-base-uncased')\n",
    "start = time.time()\n",
    "tokenized_data_test = dataset['test_ood_gpt_para'].map(preprocess_function, batched=True)\n",
    "\n",
    "test_correct_total = 0\n",
    "total_test_samples = 0\n",
    "criterion = torch.nn.CrossEntropyLoss().to(device)\n",
    "with torch.no_grad():\n",
    "    for step, inputs in enumerate(tokenized_data_test):\n",
    "        input_ids =  torch.tensor([inputs['input_ids']])\n",
    "        labels = torch.tensor([inputs['label']])\n",
    "        outputs =  model_test(input_ids, labels = labels, output_hidden_states=True)\n",
    "        logits = outputs.logits\n",
    "        loss = criterion(logits, labels)\n",
    "        test_correct_total += (logits.argmax(dim=1) == labels).sum().item()\n",
    "        total_test_samples += labels.size(0)\n",
    "\n",
    "print(\"test_correct_total: \", test_correct_total,\" total_test_samples: \", total_test_samples)\n",
    "print(f'Time: {(time.time()-start)/60:.3f} minutes')\n"
   ]
  },
  {
   "cell_type": "code",
   "execution_count": 7,
   "id": "b9a0daa4-6507-4a07-bdf0-de75f55d16ad",
   "metadata": {},
   "outputs": [
    {
     "name": "stdout",
     "output_type": "stream",
     "text": [
      "Test ood para Acc: 74.72%\n"
     ]
    }
   ],
   "source": [
    "test_accuracy = test_correct_total / total_test_samples\n",
    "print(f'Test ood para Acc: {test_accuracy*100:.2f}%')"
   ]
  },
  {
   "cell_type": "code",
   "execution_count": 16,
   "id": "fc1fbce8-7a55-4c43-9a05-22fea428636b",
   "metadata": {},
   "outputs": [
    {
     "name": "stdout",
     "output_type": "stream",
     "text": [
      "test_correct_total:  1222  total_test_samples:  1562\n",
      "Test ood Acc: 78.23%\n",
      "Time: 3.105 minutes\n"
     ]
    }
   ],
   "source": [
    "dataset = load_dataset(\"yaful/DeepfakeTextDetect\")\n",
    "# Test Accuracy on Out-of-distribution Detection\n",
    "start = time.time()\n",
    "tokenized_data_test = dataset['test_ood_gpt'].map(preprocess_function, batched=True)\n",
    "test_correct_total = 0\n",
    "total_test_samples = 0\n",
    "criterion = torch.nn.CrossEntropyLoss().to(device)\n",
    "logit_lst= []\n",
    "loss_lst=[]\n",
    "labels_lst = []\n",
    "with torch.no_grad():\n",
    "    for step, inputs in enumerate(tokenized_data_test):\n",
    "        input_ids =  torch.tensor([inputs['input_ids']])\n",
    "        labels = torch.tensor([inputs['label']])\n",
    "        outputs =  model_test(input_ids, labels = labels)\n",
    "        logits = outputs.logits\n",
    "        logit_lst.append(logits)\n",
    "        loss = criterion(logits, labels)\n",
    "        loss_lst.append(loss.item())\n",
    "        test_correct_total += (logits.argmax(dim=1) == labels).sum().item()\n",
    "        labels_lst.append((logits.argmax(dim=1) == labels).sum().item())\n",
    "        total_test_samples += labels.size(0)\n",
    "\n",
    "print(\"test_correct_total: \", test_correct_total,\" total_test_samples: \", total_test_samples)\n",
    "test_accuracy = test_correct_total / total_test_samples\n",
    "print(f'Test ood Acc: {test_accuracy*100:.2f}%')\n",
    "print(f'Time: {(time.time()-start)/60:.3f} minutes')\n",
    "\n"
   ]
  },
  {
   "cell_type": "code",
   "execution_count": 9,
   "id": "5f97d30e-a88b-47c1-b6d3-1fbb128c29a2",
   "metadata": {},
   "outputs": [
    {
     "name": "stdout",
     "output_type": "stream",
     "text": [
      "test_correct_total:  49996  total_test_samples:  56819\n",
      "Test Acc: 87.99%\n",
      "Time: 104.046 minutes\n"
     ]
    }
   ],
   "source": [
    "# Test Accuray of In-distibution detection\n",
    "tokenized_data_test = dataset['test'].map(preprocess_function, batched=True)\n",
    "test_correct_total = 0\n",
    "total_test_samples = 0\n",
    "criterion = torch.nn.CrossEntropyLoss().to(device)\n",
    "start = time.time()\n",
    "with torch.no_grad():\n",
    "    for step, inputs in enumerate(tokenized_data_test):\n",
    "        input_ids =  torch.tensor([inputs['input_ids']])\n",
    "        labels = torch.tensor([inputs['label']])\n",
    "        outputs =  model_test(input_ids, labels = labels)\n",
    "        logits = outputs.logits\n",
    "        loss = criterion(logits, labels)\n",
    "        test_correct_total += (logits.argmax(dim=1) == labels).sum().item()\n",
    "        total_test_samples += labels.size(0)\n",
    "\n",
    "print(\"test_correct_total: \", test_correct_total,\" total_test_samples: \", total_test_samples)\n",
    "test_accuracy = test_correct_total / total_test_samples\n",
    "print(f'Test Acc: {test_accuracy*100:.2f}%')\n",
    "print(f'Time: {(time.time()-start)/60:.3f} minutes')"
   ]
  },
  {
   "cell_type": "code",
   "execution_count": 10,
   "id": "03bb41f7-1eb5-4443-9ff5-8cc401cad9bc",
   "metadata": {},
   "outputs": [
    {
     "data": {
      "image/png": "[encoded data removed]",
      "text/plain": [
       "<Figure size 640x480 with 1 Axes>"
      ]
     },
     "metadata": {},
     "output_type": "display_data"
    },
    {
     "data": {
      "image/png": "[encoded data removed]",
      "text/plain": [
       "<Figure size 640x480 with 1 Axes>"
      ]
     },
     "metadata": {},
     "output_type": "display_data"
    }
   ],
   "source": [
    "# from deployment import preprocess, detect\n",
    "from matplotlib.pylab import plt\n",
    "from numpy import arange\n",
    "train_loss = {0:0.153,1:0.065 , 2: 0.032, 3: .020, 4: 0.013  }\n",
    "train_acc ={0: 93.76,1: 97.49, 2: 98.79, 3: 99.28, 4:99.53}\t\n",
    "validation_loss = {0: 0.393 ,1: 0.440,2: 0.374, 3:0.509, 4: 0.546}\n",
    "valid_acc = {0:83.73,1:85.13,2: 89.09 ,3:86.93,4:87.87 }\n",
    "\n",
    "epochs = range(0,5)\n",
    "plt.plot(epochs, train_loss.values(), label='Training Loss')\n",
    "plt.plot(epochs, validation_loss.values(), label='Validation Loss')\n",
    "\n",
    "# Add in a title and axes labels\n",
    "plt.title('Training and Validation Loss')\n",
    "plt.xlabel('Epochs')\n",
    "plt.ylabel('Loss')\n",
    "\n",
    "# Set the tick locations\n",
    "plt.yticks(arange(0, 1, .2))\n",
    "plt.xticks(arange(0, 4, .5))\n",
    "# Display the plot\n",
    "plt.legend(loc='best')\n",
    "plt.show()\n",
    "epochs = range(0,5)\n",
    "plt.plot(epochs, train_acc.values(), label='Training Accuracy')\n",
    "plt.plot(epochs, valid_acc.values(), label='Validation Accuracy')\n",
    "\n",
    "# Add in a title and axes labels\n",
    "plt.title('Training and Validation Accuracy')\n",
    "plt.xlabel('Epochs')\n",
    "plt.ylabel('Accuracy')\n",
    "# Set the tick locations\n",
    "plt.xticks(arange(0, 4, .5))\n",
    "\n",
    "# Display the plot\n",
    "plt.legend(loc='best')\n",
    "plt.show()"
   ]
  },
  {
   "cell_type": "markdown",
   "id": "3947838f-8de0-4778-a95c-ee91c34202bc",
   "metadata": {},
   "source": [
    "Inference:"
   ]
  },
  {
   "cell_type": "code",
   "execution_count": null,
   "id": "f4a2e8f5-8979-4fef-b69b-2af67397bad2",
   "metadata": {},
   "outputs": [],
   "source": [
    "start = time.time()\n",
    "\n",
    "from transformers import pipeline\n",
    "model_test = AutoModelForSequenceClassification.from_pretrained(\"./deep_fake_model/\")\n",
    "tokenizer = AutoTokenizer.from_pretrained('distilbert-base-uncased')\n",
    "classifier = pipeline(\"text-classification\", model=model_test, tokenizer=tokenizer, device=device)\n",
    "text =\"If any of you frequent rbadhistory, there is a rather infamous [chart] that captures a popular perception of the Middle Ages as a \\\"dark age\\\" that retarded scientific progress by over 1,000 years. This perception is incorrect but is still commonplace. I believe that the Bush years will be viewed similarly by future generations for the following reasons: The much disputed election in Florida was a huge challenge to the world's second-largest democracy. Having the Supreme Court effectively appoint a president upon party lines significantly hurt faith in the US political process and led to the polarization that has led to the Do-Nothing Congresses of 2006-2008 and 2010-. Bush's decision to go to war in Iraq eroded the brief period of global consensus that saw countries from Iran to Russia united in sympathy with the USA against Al-Qaeda. I'm not saying we would be at world peace thereafter, but we could have taken advantage of that unity to seriously reduce international conflict. Climate change. Need I say more? The Bush years saw inaction on global climate change that has endangered every country on earth. Imperialism. The expansion of the War on Terror to Iraq and other groups was correlated with a rise of police militarization (in the US) and espionage (globally) and led to the installation of treasonous quisling governments around Europe. Economic instability. The 2008 housing bubble (heavily concentrated in, you guessed it, Florida) triggered a global financial crisis that the world has yet to recover from. The progress that the world's 99, overwhelmingly located in developing countries like China and India, made during the 2000s has almost completely been [reversed] by this fucking crisis. Global equity markets are now [as US-centric] as they've ever been since at least the Eighties, meaning that \\\"the rise of the rest\\\" has been an utter illusion. Erosion in quality of living. In addition to the phony \\\"development\\\" of countries like China and India, Western countries have seen a large absolute drop in well-being due to the financial crisis of the Bush years, a drop which treaties like TPP and TTIP may well enshrine into law. TL;DR: If the world is a dystopia in 2200, George W. Bush will be (rightfully or not) blamed.\"\n",
    "classifier(text)\n",
    "inputs = tokenizer(text, return_tensors='pt').to(device)  # 'pt' means your tokenizer will return a pytorch tensor\n",
    "from transformers import AutoModelForSequenceClassification\n",
    "with torch.no_grad():\n",
    "    logits = model(**inputs).logits\n",
    "predicted_class_id = logits.argmax().item() # is the first output or second output bigger? get ID of bigger output\n",
    "print(model.config.id2label[predicted_class_id]) # translate ID to human-readable label\n",
    "print(f'Time: {(time.time()-start)/60:.3f} minutes')"
   ]
  },
  {
   "cell_type": "markdown",
   "id": "eba788f8-06d5-424b-866c-15fcf3d15aa5",
   "metadata": {},
   "source": [
    "(Bonus +1) Step 6: Visualize errors and perform qualitative analysis"
   ]
  },
  {
   "cell_type": "code",
   "execution_count": 17,
   "id": "ef5c4b07-2ae4-41dc-973e-c994e2064ba1",
   "metadata": {},
   "outputs": [
    {
     "data": {
      "image/png": "[encoded data removed]",
      "text/plain": [
       "<Figure size 1000x600 with 1 Axes>"
      ]
     },
     "metadata": {},
     "output_type": "display_data"
    }
   ],
   "source": [
    "\n",
    "import numpy as np\n",
    "import matplotlib.pyplot as plt\n",
    "logits_np = np.array([logit.numpy() for logit in logit_lst]).squeeze()\n",
    "# Scatter plot\n",
    "colors = ['red' if label == 1 else 'blue' for label in labels_lst]\n",
    "\n",
    "plt.figure(figsize=(10, 6))\n",
    "for i, color in enumerate(colors):\n",
    "    plt.scatter(logits_np[i, 0], logits_np[i, 1], color=color, alpha=0.5)\n",
    "plt.title('2D Scatter Plot of Logits with Labels')\n",
    "plt.xlabel('Logit Dimension 1')\n",
    "plt.ylabel('Logit Dimension 2')\n",
    "plt.grid(True)\n",
    "plt.show()"
   ]
  }
 ],
 "metadata": {
  "kernelspec": {
   "display_name": "Python 3 (ipykernel)",
   "language": "python",
   "name": "python3"
  },
  "language_info": {
   "codemirror_mode": {
    "name": "ipython",
    "version": 3
   },
   "file_extension": ".py",
   "mimetype": "text/x-python",
   "name": "python",
   "nbconvert_exporter": "python",
   "pygments_lexer": "ipython3",
   "version": "3.11.3"
  }
 },
 "nbformat": 4,
 "nbformat_minor": 5
}
